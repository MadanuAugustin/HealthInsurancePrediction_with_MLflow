





import pandas as pd
import numpy as np
import seaborn as sns
import matplotlib.pyplot as plt
import warnings
warnings.filterwarnings('ignore')





pd.set_option('display.max_rows', 10000)
pd.set_option('display.max_columns', 10000)





data  = pd.read_csv('Health_insurance.csv')


data.head()





data.shape





data.info()





data.describe().T





data.columns





data.dtypes





data.isnull().sum()





data.duplicated().sum()





plt.figure(figsize=(5, 20))
plt.pie(x = data.smoker.value_counts(), labels = ['No', 'Yes'], autopct = '%.2f%%')
plt.show()





plt.figure(figsize=(10, 5))
sns.countplot(data = data, x = 'smoker', hue = 'sex')

plt.show()





data["sex"] = data["sex"].map({"female": 0, "male": 1})
data["smoker"] = data["smoker"].map({"no": 0, "yes": 1})





data.head()





plt.figure(figsize=(5, 20))
plt.pie(x = data.region.value_counts(), labels = ['southeast', 'southwest', 'northwest', 'northeast'], autopct = '%.2f%%')
plt.show()





sns.heatmap(data.corr(numeric_only = True))








X = data[["age", "sex", "bmi", "smoker"]]


y = data[["charges"]]





from sklearn.model_selection import train_test_split


X_train, X_test, y_train, y_test = train_test_split(X, y, test_size = 0.2, random_state=42)


X_train.shape, X_test.shape, y_train.shape, y_test.shape





from sklearn.ensemble import RandomForestRegressor


rf = RandomForestRegressor()


rf.fit(X_train, y_train)


y_pred = rf.predict(X_test)





from sklearn.metrics import r2_score, mean_squared_error, mean_absolute_error


r2_score(y_test, y_pred)


mean_squared_error(y_test, y_pred)


mean_absolute_error(y_test, y_pred)



